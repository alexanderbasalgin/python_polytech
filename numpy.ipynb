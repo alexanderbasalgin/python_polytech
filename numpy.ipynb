{
  "nbformat": 4,
  "nbformat_minor": 0,
  "metadata": {
    "colab": {
      "provenance": [],
      "include_colab_link": true
    },
    "kernelspec": {
      "name": "python3",
      "display_name": "Python 3"
    },
    "language_info": {
      "name": "python"
    }
  },
  "cells": [
    {
      "cell_type": "markdown",
      "metadata": {
        "id": "view-in-github",
        "colab_type": "text"
      },
      "source": [
        "<a href=\"https://colab.research.google.com/github/alexanderbasalgin/python_polytech/blob/main/numpy.ipynb\" target=\"_parent\"><img src=\"https://colab.research.google.com/assets/colab-badge.svg\" alt=\"Open In Colab\"/></a>"
      ]
    },
    {
      "cell_type": "markdown",
      "source": [
        "# Лабораторная работа по теме: \"Введение в анализ данных. Операции над векторами и матрицами в NumPy\""
      ],
      "metadata": {
        "id": "vr3PzzdntpPb"
      }
    },
    {
      "cell_type": "code",
      "source": [
        "import numpy as np"
      ],
      "metadata": {
        "id": "RkrkxAzot4xl"
      },
      "execution_count": 3,
      "outputs": []
    },
    {
      "cell_type": "markdown",
      "source": [
        "### Задание 1"
      ],
      "metadata": {
        "id": "5QjKGbeztz9i"
      }
    },
    {
      "cell_type": "markdown",
      "source": [
        "Создать 12x12 единичную матрицу (с единицами по диагонали)"
      ],
      "metadata": {
        "id": "itspkMvKuCj4"
      }
    },
    {
      "cell_type": "code",
      "source": [
        "matrix = np.eye(12)\n",
        "print(matrix)"
      ],
      "metadata": {
        "colab": {
          "base_uri": "https://localhost:8080/"
        },
        "id": "An3oWlmft1ne",
        "outputId": "bc573353-16a1-4b7c-d853-23bfbf9a27a9"
      },
      "execution_count": 6,
      "outputs": [
        {
          "output_type": "stream",
          "name": "stdout",
          "text": [
            "[[1. 0. 0. 0. 0. 0. 0. 0. 0. 0. 0. 0.]\n",
            " [0. 1. 0. 0. 0. 0. 0. 0. 0. 0. 0. 0.]\n",
            " [0. 0. 1. 0. 0. 0. 0. 0. 0. 0. 0. 0.]\n",
            " [0. 0. 0. 1. 0. 0. 0. 0. 0. 0. 0. 0.]\n",
            " [0. 0. 0. 0. 1. 0. 0. 0. 0. 0. 0. 0.]\n",
            " [0. 0. 0. 0. 0. 1. 0. 0. 0. 0. 0. 0.]\n",
            " [0. 0. 0. 0. 0. 0. 1. 0. 0. 0. 0. 0.]\n",
            " [0. 0. 0. 0. 0. 0. 0. 1. 0. 0. 0. 0.]\n",
            " [0. 0. 0. 0. 0. 0. 0. 0. 1. 0. 0. 0.]\n",
            " [0. 0. 0. 0. 0. 0. 0. 0. 0. 1. 0. 0.]\n",
            " [0. 0. 0. 0. 0. 0. 0. 0. 0. 0. 1. 0.]\n",
            " [0. 0. 0. 0. 0. 0. 0. 0. 0. 0. 0. 1.]]\n"
          ]
        }
      ]
    },
    {
      "cell_type": "markdown",
      "source": [
        "### Задание 2 *"
      ],
      "metadata": {
        "id": "zgtjz7y7uY1H"
      }
    },
    {
      "cell_type": "markdown",
      "source": [
        "Создать 9x9 матрицу и заполнить её в шахматном порядке"
      ],
      "metadata": {
        "id": "S47Cmf05ye5a"
      }
    },
    {
      "cell_type": "code",
      "source": [
        "matrix = np.zeros((9, 9), dtype=int)\n",
        "for i in range(9):\n",
        "    for j in range(9):\n",
        "        if (i + j) % 2 == 0:\n",
        "            matrix[i, j] = 1\n",
        "print(matrix)"
      ],
      "metadata": {
        "colab": {
          "base_uri": "https://localhost:8080/"
        },
        "id": "FRZ2AujOyyKe",
        "outputId": "c51ca535-1993-422d-d9fa-7599f44109a5"
      },
      "execution_count": 9,
      "outputs": [
        {
          "output_type": "stream",
          "name": "stdout",
          "text": [
            "[[1 0 1 0 1 0 1 0 1]\n",
            " [0 1 0 1 0 1 0 1 0]\n",
            " [1 0 1 0 1 0 1 0 1]\n",
            " [0 1 0 1 0 1 0 1 0]\n",
            " [1 0 1 0 1 0 1 0 1]\n",
            " [0 1 0 1 0 1 0 1 0]\n",
            " [1 0 1 0 1 0 1 0 1]\n",
            " [0 1 0 1 0 1 0 1 0]\n",
            " [1 0 1 0 1 0 1 0 1]]\n"
          ]
        }
      ]
    },
    {
      "cell_type": "markdown",
      "source": [
        "### Задание 3"
      ],
      "metadata": {
        "id": "V910eQBazBw-"
      }
    },
    {
      "cell_type": "markdown",
      "source": [
        "Отсортировать произвольный вектор в порядке возрастания"
      ],
      "metadata": {
        "id": "MrD-Vg_8zTcC"
      }
    },
    {
      "cell_type": "code",
      "source": [
        "np.random.seed(42)\n",
        "vector = np.random.random(10)\n",
        "print(vector)\n",
        "vector = np.sort(vector)\n",
        "print(vector)"
      ],
      "metadata": {
        "colab": {
          "base_uri": "https://localhost:8080/"
        },
        "id": "hobc_yIUzc2Y",
        "outputId": "c3b0a4c6-ed31-4b25-b0da-754c7ffa3d3c"
      },
      "execution_count": 14,
      "outputs": [
        {
          "output_type": "stream",
          "name": "stdout",
          "text": [
            "[0.37454012 0.95071431 0.73199394 0.59865848 0.15601864 0.15599452\n",
            " 0.05808361 0.86617615 0.60111501 0.70807258]\n",
            "[0.05808361 0.15599452 0.15601864 0.37454012 0.59865848 0.60111501\n",
            " 0.70807258 0.73199394 0.86617615 0.95071431]\n"
          ]
        }
      ]
    },
    {
      "cell_type": "markdown",
      "source": [
        "### Задание 4"
      ],
      "metadata": {
        "id": "CcyFdU0QzpFm"
      }
    },
    {
      "cell_type": "markdown",
      "source": [
        "Определить есть ли в произвольном двумерном массиве из целых чисел строки, в которых все значения равны 4."
      ],
      "metadata": {
        "id": "yjVzk0XMzzX0"
      }
    },
    {
      "cell_type": "code",
      "source": [
        "np.random.seed(42)\n",
        "fourth_array = np.random.randint(3, 5,(8, 3))\n",
        "print(fourth_array)\n",
        "check_4 = np.all(fourth_array == 4, axis=1)\n",
        "if np.any(check_4):\n",
        "    print('В произвольном двумерном массиве есть строки, в которых все значения равны 4')\n",
        "else:\n",
        "    print('В произвольном двумерном массиве нет строк, в которых все значения равны 4')\n"
      ],
      "metadata": {
        "colab": {
          "base_uri": "https://localhost:8080/"
        },
        "id": "E6kZxQvT0fp6",
        "outputId": "fc1a74cd-74a2-430d-e1ac-cff0695099ad"
      },
      "execution_count": 38,
      "outputs": [
        {
          "output_type": "stream",
          "name": "stdout",
          "text": [
            "[[3 4 3]\n",
            " [3 3 4]\n",
            " [3 3 3]\n",
            " [4 3 3]\n",
            " [3 3 4]\n",
            " [3 4 4]\n",
            " [4 3 4]\n",
            " [3 4 4]]\n",
            "В произвольном двумерном массиве нет строк, в которых все значения равны 4\n"
          ]
        }
      ]
    },
    {
      "cell_type": "markdown",
      "source": [
        "### Задание 5"
      ],
      "metadata": {
        "id": "P4jYtxo41foh"
      }
    },
    {
      "cell_type": "markdown",
      "source": [
        "Создайте массив из 6 элементов, 5 из которых равны 0, последний элемент должен быть равен 1"
      ],
      "metadata": {
        "id": "S_rvQzi31tAr"
      }
    },
    {
      "cell_type": "code",
      "source": [
        "array = np.zeros(6)\n",
        "array[-1] = 1\n",
        "print(array)"
      ],
      "metadata": {
        "colab": {
          "base_uri": "https://localhost:8080/"
        },
        "id": "vZT1HXr52b7R",
        "outputId": "95bdd8b0-7f3d-4168-b32d-2535b108e0be"
      },
      "execution_count": 34,
      "outputs": [
        {
          "output_type": "stream",
          "name": "stdout",
          "text": [
            "[0. 0. 0. 0. 0. 1.]\n"
          ]
        }
      ]
    },
    {
      "cell_type": "markdown",
      "source": [
        "### Задание 6"
      ],
      "metadata": {
        "id": "TL-1Heta2skE"
      }
    },
    {
      "cell_type": "markdown",
      "source": [
        "Укажите индекс 9 элемента в массиве 2х3х2"
      ],
      "metadata": {
        "id": "cqnd5VUV24zl"
      }
    },
    {
      "cell_type": "code",
      "source": [
        "index = np.unravel_index(9, (2, 3, 2))\n",
        "print(index)"
      ],
      "metadata": {
        "colab": {
          "base_uri": "https://localhost:8080/"
        },
        "id": "wdAMlC8u3S3r",
        "outputId": "99586b04-9037-4c12-adf2-3ef08921a9da"
      },
      "execution_count": 39,
      "outputs": [
        {
          "output_type": "stream",
          "name": "stdout",
          "text": [
            "(1, 1, 1)\n"
          ]
        }
      ]
    }
  ]
}